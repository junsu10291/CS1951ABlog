{
 "cells": [
  {
   "cell_type": "code",
   "execution_count": 68,
   "metadata": {
    "collapsed": true
   },
   "outputs": [],
   "source": [
    "#Input Variable\n",
    "current_user = '3rsZCoTmr8EM7DwtGm_RsQ' \n",
    "#Try these IDs for current_user: '-594af_E7Z9VVjQc9pJK3g', 'njUgJcn8ZN0BdZdNEswRwA', '3rsZCoTmr8EM7DwtGm_RsQ'\n",
    "#If there isn't any info about this current_user, we will output default (random) recommendations. i.e. 'daehyun'"
   ]
  },
  {
   "cell_type": "code",
   "execution_count": 69,
   "metadata": {
    "collapsed": false,
    "deletable": true,
    "editable": true,
    "scrolled": true
   },
   "outputs": [
    {
     "name": "stderr",
     "output_type": "stream",
     "text": [
      "/Library/Frameworks/Python.framework/Versions/3.5/lib/python3.5/site-packages/ipykernel/__main__.py:18: UserWarning: Boolean Series key will be reindexed to match DataFrame index.\n"
     ]
    },
    {
     "name": "stdout",
     "output_type": "stream",
     "text": [
      "User_ID:  3rsZCoTmr8EM7DwtGm_RsQ\n",
      "\n",
      "Recommendations(ranked):\n",
      "['Rollin Smoke Barbeque', \"['Restaurants', 'Burgers', 'Soul Food', 'Barbeque']\", '3185 S Highland Dr']\n",
      "['Secret Pizza', \"['Pizza', 'Restaurants']\", 'The Cosmopolitan Of Las Vegas, 3708 Las Vegas Blvd S']\n",
      "['Pizza Rock', \"['Pizza', 'Restaurants']\", '201 N 3rd St']\n",
      "['TACOS EL GORDO', \"['Mexican', 'Restaurants']\", '1724 E Charleston Blvd']\n",
      "['Sunrise Coffee', \"['Coffee & Tea', 'Vegan', 'Food', 'Tea Rooms', 'Restaurants']\", '3130 E Sunset Rd, Ste A']\n",
      "['KoMex Fusion', \"['Restaurants', 'Asian Fusion', 'Korean', 'Mexican']\", '633 N Decatur Blvd, Ste H']\n",
      "['Viva Las Arepas', \"['Venezuelan', 'Food Stands', 'Restaurants', 'Latin American']\", '1616 S Las Vegas Blvd, Ste 120']\n",
      "['Bachi Burger', \"['Beer', 'Wine & Spirits', 'Burgers', 'Restaurants', 'Asian Fusion', 'Bars', 'Nightlife', 'Food']\", '470 E Windmill Ln, Ste 100']\n",
      "['Cr’épe Expectations', \"['Breakfast & Brunch', 'Restaurants', 'Creperies']\", '9500 S Eastern Ave, Ste 150']\n",
      "[\"John Mull's Meats & Road Kill Grill\", \"['Barbeque', 'Caterers', 'Butcher', 'Food', 'Restaurants', 'Specialty Food', 'Event Planning & Services', 'Meat Shops']\", '3730 Thom Blvd']\n",
      "['Taco Y Taco', \"['Mexican', 'Vegetarian', 'Restaurants']\", '3430 E Tropicana Ave']\n",
      "['Hash House A Go Go', \"['Breakfast & Brunch', 'Restaurants', 'American (New)']\", '6800 W Sahara Ave']\n",
      "['Bacchanal Buffet', \"['Buffets', 'Sandwiches', 'Food', 'Restaurants', 'Breakfast & Brunch']\", 'Caesars Palace Las Vegas Hotel And Casino, 3570 Las Vegas Boulevard South']\n",
      "['DW Bistro', \"['Caribbean', 'Restaurants', 'Cocktail Bars', 'American (New)', 'Bars', 'American (Traditional)', 'Nightlife']\", '9275 West Russell Rd, Ste 190']\n",
      "['Mon Ami Gabi', \"['Restaurants', 'Steakhouses', 'French', 'Breakfast & Brunch']\", '3655 Las Vegas Blvd S']\n",
      "['Settebello Pizzeria Napoletana', \"['Restaurants', 'Pizza']\", '140 Green Valley Pkwy']\n",
      "[\"Lucille's Smokehouse Bar-B-Que\", \"['Cajun/Creole', 'Barbeque', 'Smokehouse', 'Food', 'Restaurants']\", 'The District At Green Valley Ranch, 2245 Village Walk Dr']\n",
      "['Slidin Thru', \"['Restaurants', 'Food Stands', 'Food Trucks', 'Burgers', 'Food']\", '6478 Windy Rd']\n",
      "['eat.', \"['American (New)', 'Sandwiches', 'Breakfast & Brunch', 'Restaurants']\", '707 Carson Ave']\n",
      "['Grand Lux Cafe', \"['Desserts', 'American (Traditional)', 'Food', 'American (New)', 'Restaurants']\", 'The Venetian Hotel & Casino, 3355 Las Vegas Blvd S']\n"
     ]
    }
   ],
   "source": [
    "TOP_N = 20\n",
    "\n",
    "import pandas as pd\n",
    "import sqlite3\n",
    "import operator\n",
    "from random import shuffle\n",
    "\n",
    "df_preclustered = pd.read_csv('preclustered.csv')\n",
    "\n",
    "if len(df_preclustered[df_preclustered['user_id']==current_user])!=0:\n",
    "    current_cluster = df_preclustered[df_preclustered['user_id']==current_user]['user_cluster'].iloc[0]\n",
    "    users_in_current_cluster = df_preclustered[df_preclustered['user_cluster']==current_cluster]['user_id']\n",
    "    users_in_current_cluster = set(users_in_current_cluster)\n",
    "    users_in_current_cluster = list(users_in_current_cluster)\n",
    "\n",
    "    recommended_restaurants = {}\n",
    "    for user in users_in_current_cluster:\n",
    "        r_list = list(set(df_preclustered[df_preclustered['user_id']==user][df_preclustered['stars']==5]['business_id']))\n",
    "        for el in r_list:\n",
    "            if el in recommended_restaurants:\n",
    "                recommended_restaurants[el] += 1\n",
    "            else:\n",
    "                recommended_restaurants[el] = 1\n",
    "\n",
    "    sorted_x = sorted(recommended_restaurants.items(), key=operator.itemgetter(1))\n",
    "    sorted_x.reverse()\n",
    "\n",
    "    final_restaurantids = []\n",
    "\n",
    "    if len(sorted_x) < TOP_N:\n",
    "        TOP_N = len(sorted_x)\n",
    "\n",
    "    for i in range(TOP_N):\n",
    "        final_restaurantids.append(sorted_x[i][0])\n",
    "\n",
    "    conn = sqlite3.connect(\"yelp2.db\")\n",
    "    business = pd.read_sql_query(\"select * from business;\", conn)\n",
    "\n",
    "    final_list = []\n",
    "    for restaurant in final_restaurantids:\n",
    "        final_list.append([business[business['business_id'] == restaurant]['name'].iloc[0], \n",
    "                           business[business['business_id'] == restaurant]['categories'].iloc[0], \n",
    "                           business[business['business_id'] == restaurant]['address'].iloc[0]])\n",
    "\n",
    "    print('User_ID: ', current_user) \n",
    "    print()\n",
    "    print('Recommendations(ranked):')\n",
    "    for i in range(len(final_list)):\n",
    "        print(final_list[i]) #name, categories, address\n",
    "else:\n",
    "    print('Sorry, we did not recognize your user_id,', current_user, '!')\n",
    "    print()\n",
    "    print('General Recommendations:')\n",
    "    general_recommendation = []\n",
    "    for i in range(len(business[business['stars']==5]['name'])):\n",
    "        general_recommendation.append([business[business['stars']==5]['name'].iloc[i],\n",
    "                                  business[business['stars']==5]['categories'].iloc[i],\n",
    "                                  business[business['stars']==5]['address'].iloc[i]])\n",
    "    for i in range(len(business[business['stars']==4]['name'])):\n",
    "        general_recommendation.append([business[business['stars']==4]['name'].iloc[i],\n",
    "                                  business[business['stars']==4]['categories'].iloc[i],\n",
    "                                  business[business['stars']==4]['address'].iloc[i]])\n",
    "    shuffle(general_recommendation)\n",
    "    for i in range(TOP_N):\n",
    "        print(general_recommendation[i])  \n",
    "    "
   ]
  }
 ],
 "metadata": {
  "kernelspec": {
   "display_name": "Python 3",
   "language": "python",
   "name": "python3"
  },
  "language_info": {
   "codemirror_mode": {
    "name": "ipython",
    "version": 3
   },
   "file_extension": ".py",
   "mimetype": "text/x-python",
   "name": "python",
   "nbconvert_exporter": "python",
   "pygments_lexer": "ipython3",
   "version": "3.5.2"
  }
 },
 "nbformat": 4,
 "nbformat_minor": 2
}
